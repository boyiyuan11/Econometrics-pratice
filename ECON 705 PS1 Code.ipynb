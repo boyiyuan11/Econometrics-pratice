{
 "cells": [
  {
   "cell_type": "code",
   "execution_count": null,
   "id": "fe9500a7",
   "metadata": {},
   "outputs": [],
   "source": [
    "#ECON 705 A1 - Code for Computational Question"
   ]
  },
  {
   "cell_type": "code",
   "execution_count": null,
   "id": "026ef3f3",
   "metadata": {},
   "outputs": [],
   "source": [
    "#Load in the necessary packages\n",
    "\n",
    "import pandas as pd\n",
    "import numpy as np\n",
    "import matplotlib.pyplot as plt\n",
    "import scipy.stats as sp"
   ]
  },
  {
   "cell_type": "code",
   "execution_count": null,
   "id": "a47f7c14",
   "metadata": {},
   "outputs": [],
   "source": [
    "#A procedure that takes as inputs:\n",
    "# 1) Number of data set sumilations\n",
    "# 2) Number of observations in each data set\n",
    "\n",
    "#And produces as outputs:\n",
    "# 1) F_array - an nx*nsim array of F, rows are values of x, columns are the different simulations\n",
    "# 2) W_array - an nx*nsim array of W, rows are values of x, columns are the different simulations\n",
    "\n",
    "def myfunction(nsim, nobs):\n",
    "      \n",
    "  #Create the grid of values on which to evaluate the CDFs\n",
    "  x_grid = np.linspace(-2, 2, num=41).reshape((41,1))  \n",
    "    \n",
    "  #arrays in which to store the F_n and  W_n from each simulation  \n",
    "  F_array = np.zeros((len(x_grid),nsim))\n",
    "  W_array = np.zeros((len(x_grid),nsim))\n",
    "\n",
    "  \n",
    "  #The population CDF on x_grid\n",
    "  F = sp.norm(0, 1).cdf(x_grid)  \n",
    "  F = F.reshape((len(x_grid),1))\n",
    "\n",
    "  #Loop in the number of simulations\n",
    "  s0 = 0\n",
    "  while s0<=nsim-1:\n",
    "        \n",
    "        \n",
    "        #Draw a sample of nobs observations from the distribution of F\n",
    "        x_data_s0 = np.random.normal(loc=0.0, scale=1.0, size=(nobs,1))\n",
    "        \n",
    "\n",
    "        #Calculate the empirical CDF\n",
    "        checks = (x_data_s0.T<=x_grid).astype(int)\n",
    "        F_n=(np.sum(checks, axis=1)/nobs).reshape((len(x_grid),1))\n",
    "        W_n = np.sqrt(nobs)*(F_n-F)\n",
    "        F_array[:,s0]=F_n.reshape((len(x_grid)))\n",
    "        W_array[:,s0]=W_n.reshape((len(x_grid)))\n",
    "        s0=s0+1\n",
    "  return F_array,W_array"
   ]
  },
  {
   "cell_type": "code",
   "execution_count": null,
   "id": "aebc0e4a",
   "metadata": {},
   "outputs": [],
   "source": [
    "#First we obtain the F and W for sample size of n=500\n",
    "\n",
    "nsim = 1000\n",
    "nobs = 1000\n",
    "F_array, W_array = myfunction(nsim, nobs)"
   ]
  },
  {
   "cell_type": "code",
   "execution_count": null,
   "id": "c53fcb2c",
   "metadata": {},
   "outputs": [],
   "source": [
    "#The distribution of F, W\n",
    "#Pointwise average \n",
    "F_mean = np.mean(F_array, axis=1)\n",
    "w_mean = np.mean(W_array, axis=1)\n",
    "\n",
    "#Pointwise standard deviation\n",
    "F_std = np.std(F_array, axis=1)\n",
    "w_std = np.std(W_array, axis=1)"
   ]
  },
  {
   "cell_type": "code",
   "execution_count": null,
   "id": "33b16cad",
   "metadata": {},
   "outputs": [],
   "source": [
    "#Plot of pointwise average of F_n\n",
    "\n",
    "X = np.linspace(-2, 2, num=41).reshape((41,1)) \n",
    "Y = F_mean\n",
    "\n",
    "plt.title('Mean F_n')\n",
    "plt.plot(X, Y, label='Mean F_n')\n",
    "#plt.plot(X, Y1, label='Entry Survival')\n",
    "plt.legend()"
   ]
  },
  {
   "cell_type": "code",
   "execution_count": null,
   "id": "d02d2472",
   "metadata": {},
   "outputs": [],
   "source": [
    "#Plot of pointwise average of W_n\n",
    "\n",
    "X = np.linspace(-2, 2, num=41).reshape((41,1)) \n",
    "Y = w_mean\n",
    "\n",
    "plt.title('Mean W_n')\n",
    "plt.plot(X, Y, label='Mean W_n')\n",
    "#plt.plot(X, Y1, label='Entry Survival')\n",
    "plt.legend()\n"
   ]
  },
  {
   "cell_type": "code",
   "execution_count": null,
   "id": "cd502922",
   "metadata": {},
   "outputs": [],
   "source": [
    "#W should be normally distributed (point wise). Check at different values of x\n",
    "\n",
    "xval = 20\n",
    "pd.DataFrame(W_array[xval,:]).hist()\n",
    "\n"
   ]
  },
  {
   "cell_type": "code",
   "execution_count": null,
   "id": "f50b98de",
   "metadata": {},
   "outputs": [],
   "source": [
    "#Can repeat this exercise with different values of nobs (larger sample size)..."
   ]
  }
 ],
 "metadata": {
  "kernelspec": {
   "display_name": "Python 3 (ipykernel)",
   "language": "python",
   "name": "python3"
  },
  "language_info": {
   "codemirror_mode": {
    "name": "ipython",
    "version": 3
   },
   "file_extension": ".py",
   "mimetype": "text/x-python",
   "name": "python",
   "nbconvert_exporter": "python",
   "pygments_lexer": "ipython3",
   "version": "3.7.9"
  }
 },
 "nbformat": 4,
 "nbformat_minor": 5
}
