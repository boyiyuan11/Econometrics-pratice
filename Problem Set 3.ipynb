{
 "cells": [
  {
   "cell_type": "code",
   "execution_count": 44,
   "id": "331f10e5",
   "metadata": {},
   "outputs": [],
   "source": [
    "%reset -f"
   ]
  },
  {
   "cell_type": "code",
   "execution_count": 45,
   "id": "6a1ab347",
   "metadata": {},
   "outputs": [],
   "source": [
    "import numpy                 as np\n",
    "import pandas                as pd\n",
    "import statsmodels.api       as sm"
   ]
  },
  {
   "cell_type": "code",
   "execution_count": 46,
   "id": "231726d9",
   "metadata": {},
   "outputs": [],
   "source": [
    "dataset = pd.read_excel('cps09mar.xlsx')"
   ]
  },
  {
   "cell_type": "code",
   "execution_count": 47,
   "id": "35fdb6c9",
   "metadata": {},
   "outputs": [
    {
     "data": {
      "text/plain": [
       "Index(['age', 'female', 'hisp', 'education', 'earnings', 'hours', 'week',\n",
       "       'union', 'uncov', 'region', 'race', 'marital'],\n",
       "      dtype='object')"
      ]
     },
     "execution_count": 47,
     "metadata": {},
     "output_type": "execute_result"
    }
   ],
   "source": [
    "dataset.columns"
   ]
  },
  {
   "cell_type": "code",
   "execution_count": 49,
   "id": "91ea7a62",
   "metadata": {},
   "outputs": [],
   "source": [
    "#[1]\n",
    "#generate variables\n",
    "dataset['lwage'] = np.log(dataset.earnings)\n",
    "dataset['experience'] = dataset.age - dataset.education - 6\n",
    "dataset['experience2'] = np.square(dataset.experience)/100"
   ]
  },
  {
   "cell_type": "code",
   "execution_count": 50,
   "id": "890e9aff",
   "metadata": {},
   "outputs": [
    {
     "data": {
      "text/html": [
       "<div>\n",
       "<style scoped>\n",
       "    .dataframe tbody tr th:only-of-type {\n",
       "        vertical-align: middle;\n",
       "    }\n",
       "\n",
       "    .dataframe tbody tr th {\n",
       "        vertical-align: top;\n",
       "    }\n",
       "\n",
       "    .dataframe thead th {\n",
       "        text-align: right;\n",
       "    }\n",
       "</style>\n",
       "<table border=\"1\" class=\"dataframe\">\n",
       "  <thead>\n",
       "    <tr style=\"text-align: right;\">\n",
       "      <th></th>\n",
       "      <th>age</th>\n",
       "      <th>female</th>\n",
       "      <th>hisp</th>\n",
       "      <th>education</th>\n",
       "      <th>earnings</th>\n",
       "      <th>hours</th>\n",
       "      <th>week</th>\n",
       "      <th>union</th>\n",
       "      <th>uncov</th>\n",
       "      <th>region</th>\n",
       "      <th>race</th>\n",
       "      <th>marital</th>\n",
       "      <th>lwage</th>\n",
       "      <th>experience</th>\n",
       "      <th>experience2</th>\n",
       "    </tr>\n",
       "  </thead>\n",
       "  <tbody>\n",
       "    <tr>\n",
       "      <th>0</th>\n",
       "      <td>52</td>\n",
       "      <td>0</td>\n",
       "      <td>0</td>\n",
       "      <td>12</td>\n",
       "      <td>146000</td>\n",
       "      <td>45</td>\n",
       "      <td>52</td>\n",
       "      <td>0</td>\n",
       "      <td>0</td>\n",
       "      <td>1</td>\n",
       "      <td>1</td>\n",
       "      <td>1</td>\n",
       "      <td>11.891362</td>\n",
       "      <td>34</td>\n",
       "      <td>11.56</td>\n",
       "    </tr>\n",
       "    <tr>\n",
       "      <th>1</th>\n",
       "      <td>38</td>\n",
       "      <td>0</td>\n",
       "      <td>0</td>\n",
       "      <td>18</td>\n",
       "      <td>50000</td>\n",
       "      <td>45</td>\n",
       "      <td>52</td>\n",
       "      <td>0</td>\n",
       "      <td>0</td>\n",
       "      <td>1</td>\n",
       "      <td>1</td>\n",
       "      <td>1</td>\n",
       "      <td>10.819778</td>\n",
       "      <td>14</td>\n",
       "      <td>1.96</td>\n",
       "    </tr>\n",
       "    <tr>\n",
       "      <th>2</th>\n",
       "      <td>38</td>\n",
       "      <td>0</td>\n",
       "      <td>0</td>\n",
       "      <td>14</td>\n",
       "      <td>32000</td>\n",
       "      <td>40</td>\n",
       "      <td>51</td>\n",
       "      <td>0</td>\n",
       "      <td>0</td>\n",
       "      <td>1</td>\n",
       "      <td>1</td>\n",
       "      <td>1</td>\n",
       "      <td>10.373491</td>\n",
       "      <td>18</td>\n",
       "      <td>3.24</td>\n",
       "    </tr>\n",
       "    <tr>\n",
       "      <th>3</th>\n",
       "      <td>41</td>\n",
       "      <td>1</td>\n",
       "      <td>0</td>\n",
       "      <td>13</td>\n",
       "      <td>47000</td>\n",
       "      <td>40</td>\n",
       "      <td>52</td>\n",
       "      <td>0</td>\n",
       "      <td>0</td>\n",
       "      <td>1</td>\n",
       "      <td>1</td>\n",
       "      <td>1</td>\n",
       "      <td>10.757903</td>\n",
       "      <td>22</td>\n",
       "      <td>4.84</td>\n",
       "    </tr>\n",
       "    <tr>\n",
       "      <th>4</th>\n",
       "      <td>42</td>\n",
       "      <td>0</td>\n",
       "      <td>0</td>\n",
       "      <td>13</td>\n",
       "      <td>161525</td>\n",
       "      <td>50</td>\n",
       "      <td>52</td>\n",
       "      <td>1</td>\n",
       "      <td>0</td>\n",
       "      <td>1</td>\n",
       "      <td>1</td>\n",
       "      <td>1</td>\n",
       "      <td>11.992415</td>\n",
       "      <td>23</td>\n",
       "      <td>5.29</td>\n",
       "    </tr>\n",
       "  </tbody>\n",
       "</table>\n",
       "</div>"
      ],
      "text/plain": [
       "   age  female  hisp  education  earnings  hours  week  union  uncov  region  \\\n",
       "0   52       0     0         12    146000     45    52      0      0       1   \n",
       "1   38       0     0         18     50000     45    52      0      0       1   \n",
       "2   38       0     0         14     32000     40    51      0      0       1   \n",
       "3   41       1     0         13     47000     40    52      0      0       1   \n",
       "4   42       0     0         13    161525     50    52      1      0       1   \n",
       "\n",
       "   race  marital      lwage  experience  experience2  \n",
       "0     1        1  11.891362          34        11.56  \n",
       "1     1        1  10.819778          14         1.96  \n",
       "2     1        1  10.373491          18         3.24  \n",
       "3     1        1  10.757903          22         4.84  \n",
       "4     1        1  11.992415          23         5.29  "
      ]
     },
     "execution_count": 50,
     "metadata": {},
     "output_type": "execute_result"
    }
   ],
   "source": [
    "dataset.head()"
   ]
  },
  {
   "cell_type": "code",
   "execution_count": 51,
   "id": "ea57d1d3",
   "metadata": {},
   "outputs": [],
   "source": [
    "#Restrict the to individuals with less than 45 years experience\n",
    "dataset = dataset[dataset['experience']<45]"
   ]
  },
  {
   "cell_type": "markdown",
   "id": "74d6c43f",
   "metadata": {},
   "source": [
    "Estimate the regression\n",
    "<font size = 4>$$ \\log(wage)=\\beta_0+\\beta_1*education+\\beta_2*experience+\\beta_3*experience^2+e $$</font>"
   ]
  },
  {
   "cell_type": "code",
   "execution_count": 64,
   "id": "5d225835",
   "metadata": {},
   "outputs": [],
   "source": [
    "X = dataset[['education', 'experience', 'experience2']]\n",
    "X = sm.add_constant(X)\n",
    "Y = dataset[['lwage']]"
   ]
  },
  {
   "cell_type": "code",
   "execution_count": 65,
   "id": "ad7d658e",
   "metadata": {},
   "outputs": [
    {
     "name": "stdout",
     "output_type": "stream",
     "text": [
      "                            OLS Regression Results                            \n",
      "==============================================================================\n",
      "Dep. Variable:                  lwage   R-squared:                       0.261\n",
      "Model:                            OLS   Adj. R-squared:                  0.261\n",
      "Method:                 Least Squares   F-statistic:                     5814.\n",
      "Date:                Fri, 06 Oct 2023   Prob (F-statistic):               0.00\n",
      "Time:                        21:27:07   Log-Likelihood:                -45028.\n",
      "No. Observations:               49477   AIC:                         9.006e+04\n",
      "Df Residuals:                   49473   BIC:                         9.010e+04\n",
      "Df Model:                           3                                         \n",
      "Covariance Type:            nonrobust                                         \n",
      "===============================================================================\n",
      "                  coef    std err          t      P>|t|      [0.025      0.975]\n",
      "-------------------------------------------------------------------------------\n",
      "const           8.4178      0.018    479.980      0.000       8.383       8.452\n",
      "education       0.1244      0.001    122.374      0.000       0.122       0.126\n",
      "experience      0.0449      0.001     45.706      0.000       0.043       0.047\n",
      "experience2    -0.0778      0.002    -35.360      0.000      -0.082      -0.073\n",
      "==============================================================================\n",
      "Omnibus:                    15922.826   Durbin-Watson:                   1.766\n",
      "Prob(Omnibus):                  0.000   Jarque-Bera (JB):           360257.536\n",
      "Skew:                          -1.019   Prob(JB):                         0.00\n",
      "Kurtosis:                      16.061   Cond. No.                         184.\n",
      "==============================================================================\n",
      "\n",
      "Notes:\n",
      "[1] Standard Errors assume that the covariance matrix of the errors is correctly specified.\n",
      "17882.080177176773\n"
     ]
    }
   ],
   "source": [
    "OLS_model = sm.OLS(Y, X)\n",
    "OLS_1 = OLS_model.fit()\n",
    "print(OLS_1.summary())\n",
    "print(OLS_1.ssr)"
   ]
  },
  {
   "cell_type": "markdown",
   "id": "c76c4fa6",
   "metadata": {},
   "source": [
    "<font size=4>So now we know that $$R^2=0.261,\\,and\\,SSR=17882.08$$</font>\n"
   ]
  },
  {
   "cell_type": "code",
   "execution_count": 66,
   "id": "cbc73b40",
   "metadata": {},
   "outputs": [],
   "source": [
    "#[2]\n",
    "#Regress log(wage) on experience and experience^2\n",
    "X2 = dataset[['experience', 'experience2']]\n",
    "X2 = sm.add_constant(X2)"
   ]
  },
  {
   "cell_type": "code",
   "execution_count": 67,
   "id": "0aa7d3cd",
   "metadata": {},
   "outputs": [
    {
     "name": "stdout",
     "output_type": "stream",
     "text": [
      "                            OLS Regression Results                            \n",
      "==============================================================================\n",
      "Dep. Variable:                  lwage   R-squared:                       0.037\n",
      "Model:                            OLS   Adj. R-squared:                  0.037\n",
      "Method:                 Least Squares   F-statistic:                     946.4\n",
      "Date:                Fri, 06 Oct 2023   Prob (F-statistic):               0.00\n",
      "Time:                        21:27:15   Log-Likelihood:                -51570.\n",
      "No. Observations:               49477   AIC:                         1.031e+05\n",
      "Df Residuals:                   49474   BIC:                         1.032e+05\n",
      "Df Model:                           2                                         \n",
      "Covariance Type:            nonrobust                                         \n",
      "===============================================================================\n",
      "                  coef    std err          t      P>|t|      [0.025      0.975]\n",
      "-------------------------------------------------------------------------------\n",
      "const          10.2075      0.011    924.044      0.000      10.186      10.229\n",
      "experience      0.0460      0.001     41.070      0.000       0.044       0.048\n",
      "experience2    -0.0907      0.003    -36.156      0.000      -0.096      -0.086\n",
      "==============================================================================\n",
      "Omnibus:                     9254.506   Durbin-Watson:                   1.577\n",
      "Prob(Omnibus):                  0.000   Jarque-Bera (JB):           126071.942\n",
      "Skew:                          -0.505   Prob(JB):                         0.00\n",
      "Kurtosis:                      10.755   Cond. No.                         92.4\n",
      "==============================================================================\n",
      "\n",
      "Notes:\n",
      "[1] Standard Errors assume that the covariance matrix of the errors is correctly specified.\n"
     ]
    }
   ],
   "source": [
    "OLS_model2 = sm.OLS(Y, X2)\n",
    "OLS_2 = OLS_model2.fit()\n",
    "print(OLS_2.summary())\n",
    "res_2 = OLS_2.resid #Save the residual from the regression"
   ]
  },
  {
   "cell_type": "code",
   "execution_count": 68,
   "id": "77a0764e",
   "metadata": {},
   "outputs": [],
   "source": [
    "#Regress education on experience and experience^2\n",
    "Y3 = dataset[['education']]"
   ]
  },
  {
   "cell_type": "code",
   "execution_count": 69,
   "id": "4813b950",
   "metadata": {},
   "outputs": [
    {
     "name": "stdout",
     "output_type": "stream",
     "text": [
      "                            OLS Regression Results                            \n",
      "==============================================================================\n",
      "Dep. Variable:              education   R-squared:                       0.023\n",
      "Model:                            OLS   Adj. R-squared:                  0.023\n",
      "Method:                 Least Squares   F-statistic:                     591.3\n",
      "Date:                Fri, 06 Oct 2023   Prob (F-statistic):          1.71e-254\n",
      "Time:                        21:27:31   Log-Likelihood:            -1.1860e+05\n",
      "No. Observations:               49477   AIC:                         2.372e+05\n",
      "Df Residuals:                   49474   BIC:                         2.372e+05\n",
      "Df Model:                           2                                         \n",
      "Covariance Type:            nonrobust                                         \n",
      "===============================================================================\n",
      "                  coef    std err          t      P>|t|      [0.025      0.975]\n",
      "-------------------------------------------------------------------------------\n",
      "const          14.3906      0.043    336.111      0.000      14.307      14.475\n",
      "experience      0.0092      0.004      2.121      0.034       0.001       0.018\n",
      "experience2    -0.1036      0.010    -10.662      0.000      -0.123      -0.085\n",
      "==============================================================================\n",
      "Omnibus:                     1180.786   Durbin-Watson:                   1.441\n",
      "Prob(Omnibus):                  0.000   Jarque-Bera (JB):             2626.871\n",
      "Skew:                          -0.094   Prob(JB):                         0.00\n",
      "Kurtosis:                       4.113   Cond. No.                         92.4\n",
      "==============================================================================\n",
      "\n",
      "Notes:\n",
      "[1] Standard Errors assume that the covariance matrix of the errors is correctly specified.\n"
     ]
    }
   ],
   "source": [
    "OLS_model3 = sm.OLS(Y3, X2)\n",
    "OLS_3 = OLS_model3.fit()\n",
    "print(OLS_3.summary())\n",
    "res_3 = OLS_3.resid #save the residual from the regression"
   ]
  },
  {
   "cell_type": "code",
   "execution_count": 71,
   "id": "b26c0d66",
   "metadata": {},
   "outputs": [
    {
     "name": "stdout",
     "output_type": "stream",
     "text": [
      "                            OLS Regression Results                            \n",
      "==============================================================================\n",
      "Dep. Variable:                      y   R-squared:                       0.232\n",
      "Model:                            OLS   Adj. R-squared:                  0.232\n",
      "Method:                 Least Squares   F-statistic:                 1.498e+04\n",
      "Date:                Fri, 06 Oct 2023   Prob (F-statistic):               0.00\n",
      "Time:                        21:28:35   Log-Likelihood:                -45028.\n",
      "No. Observations:               49477   AIC:                         9.006e+04\n",
      "Df Residuals:                   49475   BIC:                         9.008e+04\n",
      "Df Model:                           1                                         \n",
      "Covariance Type:            nonrobust                                         \n",
      "==============================================================================\n",
      "                 coef    std err          t      P>|t|      [0.025      0.975]\n",
      "------------------------------------------------------------------------------\n",
      "const       5.876e-15      0.003   2.17e-12      1.000      -0.005       0.005\n",
      "0              0.1244      0.001    122.377      0.000       0.122       0.126\n",
      "==============================================================================\n",
      "Omnibus:                    15922.826   Durbin-Watson:                   1.766\n",
      "Prob(Omnibus):                  0.000   Jarque-Bera (JB):           360257.536\n",
      "Skew:                          -1.019   Prob(JB):                         0.00\n",
      "Kurtosis:                      16.061   Cond. No.                         2.66\n",
      "==============================================================================\n",
      "\n",
      "Notes:\n",
      "[1] Standard Errors assume that the covariance matrix of the errors is correctly specified.\n",
      "17882.080177176773\n"
     ]
    }
   ],
   "source": [
    "#Regress residules on residules\n",
    "OLS_model4 = sm.OLS(res_2, sm.add_constant(res_3))\n",
    "OLS_4 = OLS_model4.fit()\n",
    "print(OLS_4.summary())\n",
    "print(OLS_4.ssr)"
   ]
  },
  {
   "cell_type": "markdown",
   "id": "309a8f3c",
   "metadata": {},
   "source": [
    "<font size=4>From the result, we know that$$the\\,estimated\\,coefficient=0.1244,\\,R^2=0.232,\\,and\\,SSR=17882.08$$</font>\n",
    "<font size=4>Thus, the estimate is the same as [1], the SSR is also the same, but R^2 is less than [1]</font>"
   ]
  },
  {
   "cell_type": "code",
   "execution_count": null,
   "id": "ff67abf9",
   "metadata": {},
   "outputs": [],
   "source": []
  }
 ],
 "metadata": {
  "kernelspec": {
   "display_name": "Python 3 (ipykernel)",
   "language": "python",
   "name": "python3"
  },
  "language_info": {
   "codemirror_mode": {
    "name": "ipython",
    "version": 3
   },
   "file_extension": ".py",
   "mimetype": "text/x-python",
   "name": "python",
   "nbconvert_exporter": "python",
   "pygments_lexer": "ipython3",
   "version": "3.11.4"
  }
 },
 "nbformat": 4,
 "nbformat_minor": 5
}
