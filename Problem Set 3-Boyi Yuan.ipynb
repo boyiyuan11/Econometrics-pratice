{
 "cells": [
  {
   "cell_type": "code",
   "execution_count": 1,
   "id": "331f10e5",
   "metadata": {},
   "outputs": [],
   "source": [
    "%reset -f"
   ]
  },
  {
   "cell_type": "code",
   "execution_count": 2,
   "id": "6a1ab347",
   "metadata": {},
   "outputs": [],
   "source": [
    "import numpy                 as np\n",
    "import pandas                as pd\n",
    "import statsmodels.api       as sm"
   ]
  },
  {
   "cell_type": "code",
   "execution_count": 3,
   "id": "231726d9",
   "metadata": {},
   "outputs": [],
   "source": [
    "dataset = pd.read_excel('cps09mar.xlsx')"
   ]
  },
  {
   "cell_type": "code",
   "execution_count": 4,
   "id": "35fdb6c9",
   "metadata": {},
   "outputs": [
    {
     "data": {
      "text/plain": [
       "Index(['age', 'female', 'hisp', 'education', 'earnings', 'hours', 'week',\n",
       "       'union', 'uncov', 'region', 'race', 'marital'],\n",
       "      dtype='object')"
      ]
     },
     "execution_count": 4,
     "metadata": {},
     "output_type": "execute_result"
    }
   ],
   "source": [
    "dataset.columns"
   ]
  },
  {
   "cell_type": "code",
   "execution_count": 5,
   "id": "91ea7a62",
   "metadata": {},
   "outputs": [],
   "source": [
    "#Exercise 3.24\n",
    "#[1]\n",
    "#generate variables\n",
    "dataset['lwage'] = np.log(dataset.earnings)\n",
    "dataset['experience'] = dataset.age - dataset.education - 6\n",
    "dataset['experience2'] = np.square(dataset.experience)/100"
   ]
  },
  {
   "cell_type": "code",
   "execution_count": 6,
   "id": "890e9aff",
   "metadata": {},
   "outputs": [
    {
     "data": {
      "text/html": [
       "<div>\n",
       "<style scoped>\n",
       "    .dataframe tbody tr th:only-of-type {\n",
       "        vertical-align: middle;\n",
       "    }\n",
       "\n",
       "    .dataframe tbody tr th {\n",
       "        vertical-align: top;\n",
       "    }\n",
       "\n",
       "    .dataframe thead th {\n",
       "        text-align: right;\n",
       "    }\n",
       "</style>\n",
       "<table border=\"1\" class=\"dataframe\">\n",
       "  <thead>\n",
       "    <tr style=\"text-align: right;\">\n",
       "      <th></th>\n",
       "      <th>age</th>\n",
       "      <th>female</th>\n",
       "      <th>hisp</th>\n",
       "      <th>education</th>\n",
       "      <th>earnings</th>\n",
       "      <th>hours</th>\n",
       "      <th>week</th>\n",
       "      <th>union</th>\n",
       "      <th>uncov</th>\n",
       "      <th>region</th>\n",
       "      <th>race</th>\n",
       "      <th>marital</th>\n",
       "      <th>lwage</th>\n",
       "      <th>experience</th>\n",
       "      <th>experience2</th>\n",
       "    </tr>\n",
       "  </thead>\n",
       "  <tbody>\n",
       "    <tr>\n",
       "      <th>0</th>\n",
       "      <td>52</td>\n",
       "      <td>0</td>\n",
       "      <td>0</td>\n",
       "      <td>12</td>\n",
       "      <td>146000</td>\n",
       "      <td>45</td>\n",
       "      <td>52</td>\n",
       "      <td>0</td>\n",
       "      <td>0</td>\n",
       "      <td>1</td>\n",
       "      <td>1</td>\n",
       "      <td>1</td>\n",
       "      <td>11.891362</td>\n",
       "      <td>34</td>\n",
       "      <td>11.56</td>\n",
       "    </tr>\n",
       "    <tr>\n",
       "      <th>1</th>\n",
       "      <td>38</td>\n",
       "      <td>0</td>\n",
       "      <td>0</td>\n",
       "      <td>18</td>\n",
       "      <td>50000</td>\n",
       "      <td>45</td>\n",
       "      <td>52</td>\n",
       "      <td>0</td>\n",
       "      <td>0</td>\n",
       "      <td>1</td>\n",
       "      <td>1</td>\n",
       "      <td>1</td>\n",
       "      <td>10.819778</td>\n",
       "      <td>14</td>\n",
       "      <td>1.96</td>\n",
       "    </tr>\n",
       "    <tr>\n",
       "      <th>2</th>\n",
       "      <td>38</td>\n",
       "      <td>0</td>\n",
       "      <td>0</td>\n",
       "      <td>14</td>\n",
       "      <td>32000</td>\n",
       "      <td>40</td>\n",
       "      <td>51</td>\n",
       "      <td>0</td>\n",
       "      <td>0</td>\n",
       "      <td>1</td>\n",
       "      <td>1</td>\n",
       "      <td>1</td>\n",
       "      <td>10.373491</td>\n",
       "      <td>18</td>\n",
       "      <td>3.24</td>\n",
       "    </tr>\n",
       "    <tr>\n",
       "      <th>3</th>\n",
       "      <td>41</td>\n",
       "      <td>1</td>\n",
       "      <td>0</td>\n",
       "      <td>13</td>\n",
       "      <td>47000</td>\n",
       "      <td>40</td>\n",
       "      <td>52</td>\n",
       "      <td>0</td>\n",
       "      <td>0</td>\n",
       "      <td>1</td>\n",
       "      <td>1</td>\n",
       "      <td>1</td>\n",
       "      <td>10.757903</td>\n",
       "      <td>22</td>\n",
       "      <td>4.84</td>\n",
       "    </tr>\n",
       "    <tr>\n",
       "      <th>4</th>\n",
       "      <td>42</td>\n",
       "      <td>0</td>\n",
       "      <td>0</td>\n",
       "      <td>13</td>\n",
       "      <td>161525</td>\n",
       "      <td>50</td>\n",
       "      <td>52</td>\n",
       "      <td>1</td>\n",
       "      <td>0</td>\n",
       "      <td>1</td>\n",
       "      <td>1</td>\n",
       "      <td>1</td>\n",
       "      <td>11.992415</td>\n",
       "      <td>23</td>\n",
       "      <td>5.29</td>\n",
       "    </tr>\n",
       "  </tbody>\n",
       "</table>\n",
       "</div>"
      ],
      "text/plain": [
       "   age  female  hisp  education  earnings  hours  week  union  uncov  region  \\\n",
       "0   52       0     0         12    146000     45    52      0      0       1   \n",
       "1   38       0     0         18     50000     45    52      0      0       1   \n",
       "2   38       0     0         14     32000     40    51      0      0       1   \n",
       "3   41       1     0         13     47000     40    52      0      0       1   \n",
       "4   42       0     0         13    161525     50    52      1      0       1   \n",
       "\n",
       "   race  marital      lwage  experience  experience2  \n",
       "0     1        1  11.891362          34        11.56  \n",
       "1     1        1  10.819778          14         1.96  \n",
       "2     1        1  10.373491          18         3.24  \n",
       "3     1        1  10.757903          22         4.84  \n",
       "4     1        1  11.992415          23         5.29  "
      ]
     },
     "execution_count": 6,
     "metadata": {},
     "output_type": "execute_result"
    }
   ],
   "source": [
    "dataset.head()"
   ]
  },
  {
   "cell_type": "code",
   "execution_count": 7,
   "id": "ea57d1d3",
   "metadata": {},
   "outputs": [],
   "source": [
    "#Restrict the to individuals with less than 45 years experience\n",
    "dataset = dataset[dataset['experience']<45]"
   ]
  },
  {
   "cell_type": "markdown",
   "id": "74d6c43f",
   "metadata": {},
   "source": [
    "Estimate the regression\n",
    "<font size = 4>$$ \\log(wage)=\\beta_0+\\beta_1education+\\beta_2experience+\\beta_3experience^2+e $$</font>"
   ]
  },
  {
   "cell_type": "code",
   "execution_count": 8,
   "id": "5d225835",
   "metadata": {},
   "outputs": [],
   "source": [
    "X = dataset[['education', 'experience', 'experience2']]\n",
    "X = sm.add_constant(X)\n",
    "Y = dataset[['lwage']]"
   ]
  },
  {
   "cell_type": "code",
   "execution_count": 9,
   "id": "ad7d658e",
   "metadata": {},
   "outputs": [
    {
     "name": "stdout",
     "output_type": "stream",
     "text": [
      "                            OLS Regression Results                            \n",
      "==============================================================================\n",
      "Dep. Variable:                  lwage   R-squared:                       0.261\n",
      "Model:                            OLS   Adj. R-squared:                  0.261\n",
      "Method:                 Least Squares   F-statistic:                     5814.\n",
      "Date:                Sun, 08 Oct 2023   Prob (F-statistic):               0.00\n",
      "Time:                        18:48:52   Log-Likelihood:                -45028.\n",
      "No. Observations:               49477   AIC:                         9.006e+04\n",
      "Df Residuals:                   49473   BIC:                         9.010e+04\n",
      "Df Model:                           3                                         \n",
      "Covariance Type:            nonrobust                                         \n",
      "===============================================================================\n",
      "                  coef    std err          t      P>|t|      [0.025      0.975]\n",
      "-------------------------------------------------------------------------------\n",
      "const           8.4178      0.018    479.980      0.000       8.383       8.452\n",
      "education       0.1244      0.001    122.374      0.000       0.122       0.126\n",
      "experience      0.0449      0.001     45.706      0.000       0.043       0.047\n",
      "experience2    -0.0778      0.002    -35.360      0.000      -0.082      -0.073\n",
      "==============================================================================\n",
      "Omnibus:                    15922.826   Durbin-Watson:                   1.766\n",
      "Prob(Omnibus):                  0.000   Jarque-Bera (JB):           360257.536\n",
      "Skew:                          -1.019   Prob(JB):                         0.00\n",
      "Kurtosis:                      16.061   Cond. No.                         184.\n",
      "==============================================================================\n",
      "\n",
      "Notes:\n",
      "[1] Standard Errors assume that the covariance matrix of the errors is correctly specified.\n",
      "SSR is: 17882.080177176773\n"
     ]
    }
   ],
   "source": [
    "OLS_model = sm.OLS(Y, X)\n",
    "OLS_1 = OLS_model.fit()\n",
    "print(OLS_1.summary())\n",
    "print(\"SSR is:\",OLS_1.ssr)"
   ]
  },
  {
   "cell_type": "markdown",
   "id": "c76c4fa6",
   "metadata": {},
   "source": [
    "<font size=4>So now we know that $$R^2=0.261,\\,and\\,SSR=17882.08$$</font>\n"
   ]
  },
  {
   "cell_type": "code",
   "execution_count": 10,
   "id": "cbc73b40",
   "metadata": {},
   "outputs": [],
   "source": [
    "#[2]\n",
    "#Regress log(wage) on experience and experience^2\n",
    "X2 = dataset[['experience', 'experience2']]\n",
    "X2 = sm.add_constant(X2)"
   ]
  },
  {
   "cell_type": "code",
   "execution_count": 11,
   "id": "0aa7d3cd",
   "metadata": {},
   "outputs": [
    {
     "name": "stdout",
     "output_type": "stream",
     "text": [
      "                            OLS Regression Results                            \n",
      "==============================================================================\n",
      "Dep. Variable:                  lwage   R-squared:                       0.037\n",
      "Model:                            OLS   Adj. R-squared:                  0.037\n",
      "Method:                 Least Squares   F-statistic:                     946.4\n",
      "Date:                Sun, 08 Oct 2023   Prob (F-statistic):               0.00\n",
      "Time:                        18:48:52   Log-Likelihood:                -51570.\n",
      "No. Observations:               49477   AIC:                         1.031e+05\n",
      "Df Residuals:                   49474   BIC:                         1.032e+05\n",
      "Df Model:                           2                                         \n",
      "Covariance Type:            nonrobust                                         \n",
      "===============================================================================\n",
      "                  coef    std err          t      P>|t|      [0.025      0.975]\n",
      "-------------------------------------------------------------------------------\n",
      "const          10.2075      0.011    924.044      0.000      10.186      10.229\n",
      "experience      0.0460      0.001     41.070      0.000       0.044       0.048\n",
      "experience2    -0.0907      0.003    -36.156      0.000      -0.096      -0.086\n",
      "==============================================================================\n",
      "Omnibus:                     9254.506   Durbin-Watson:                   1.577\n",
      "Prob(Omnibus):                  0.000   Jarque-Bera (JB):           126071.942\n",
      "Skew:                          -0.505   Prob(JB):                         0.00\n",
      "Kurtosis:                      10.755   Cond. No.                         92.4\n",
      "==============================================================================\n",
      "\n",
      "Notes:\n",
      "[1] Standard Errors assume that the covariance matrix of the errors is correctly specified.\n"
     ]
    }
   ],
   "source": [
    "OLS_model2 = sm.OLS(Y, X2)\n",
    "OLS_2 = OLS_model2.fit()\n",
    "print(OLS_2.summary())\n",
    "res_2 = OLS_2.resid #Save the residual from the regression"
   ]
  },
  {
   "cell_type": "code",
   "execution_count": 12,
   "id": "77a0764e",
   "metadata": {},
   "outputs": [],
   "source": [
    "#Regress education on experience and experience^2\n",
    "Y3 = dataset[['education']]"
   ]
  },
  {
   "cell_type": "code",
   "execution_count": 13,
   "id": "4813b950",
   "metadata": {},
   "outputs": [
    {
     "name": "stdout",
     "output_type": "stream",
     "text": [
      "                            OLS Regression Results                            \n",
      "==============================================================================\n",
      "Dep. Variable:              education   R-squared:                       0.023\n",
      "Model:                            OLS   Adj. R-squared:                  0.023\n",
      "Method:                 Least Squares   F-statistic:                     591.3\n",
      "Date:                Sun, 08 Oct 2023   Prob (F-statistic):          1.71e-254\n",
      "Time:                        18:48:52   Log-Likelihood:            -1.1860e+05\n",
      "No. Observations:               49477   AIC:                         2.372e+05\n",
      "Df Residuals:                   49474   BIC:                         2.372e+05\n",
      "Df Model:                           2                                         \n",
      "Covariance Type:            nonrobust                                         \n",
      "===============================================================================\n",
      "                  coef    std err          t      P>|t|      [0.025      0.975]\n",
      "-------------------------------------------------------------------------------\n",
      "const          14.3906      0.043    336.111      0.000      14.307      14.475\n",
      "experience      0.0092      0.004      2.121      0.034       0.001       0.018\n",
      "experience2    -0.1036      0.010    -10.662      0.000      -0.123      -0.085\n",
      "==============================================================================\n",
      "Omnibus:                     1180.786   Durbin-Watson:                   1.441\n",
      "Prob(Omnibus):                  0.000   Jarque-Bera (JB):             2626.871\n",
      "Skew:                          -0.094   Prob(JB):                         0.00\n",
      "Kurtosis:                       4.113   Cond. No.                         92.4\n",
      "==============================================================================\n",
      "\n",
      "Notes:\n",
      "[1] Standard Errors assume that the covariance matrix of the errors is correctly specified.\n"
     ]
    }
   ],
   "source": [
    "OLS_model3 = sm.OLS(Y3, X2)\n",
    "OLS_3 = OLS_model3.fit()\n",
    "print(OLS_3.summary())\n",
    "res_3 = OLS_3.resid #save the residual from the regression"
   ]
  },
  {
   "cell_type": "code",
   "execution_count": 14,
   "id": "b26c0d66",
   "metadata": {},
   "outputs": [
    {
     "name": "stdout",
     "output_type": "stream",
     "text": [
      "                            OLS Regression Results                            \n",
      "==============================================================================\n",
      "Dep. Variable:                      y   R-squared:                       0.232\n",
      "Model:                            OLS   Adj. R-squared:                  0.232\n",
      "Method:                 Least Squares   F-statistic:                 1.498e+04\n",
      "Date:                Sun, 08 Oct 2023   Prob (F-statistic):               0.00\n",
      "Time:                        18:48:52   Log-Likelihood:                -45028.\n",
      "No. Observations:               49477   AIC:                         9.006e+04\n",
      "Df Residuals:                   49475   BIC:                         9.008e+04\n",
      "Df Model:                           1                                         \n",
      "Covariance Type:            nonrobust                                         \n",
      "==============================================================================\n",
      "                 coef    std err          t      P>|t|      [0.025      0.975]\n",
      "------------------------------------------------------------------------------\n",
      "const       5.876e-15      0.003   2.17e-12      1.000      -0.005       0.005\n",
      "0              0.1244      0.001    122.377      0.000       0.122       0.126\n",
      "==============================================================================\n",
      "Omnibus:                    15922.826   Durbin-Watson:                   1.766\n",
      "Prob(Omnibus):                  0.000   Jarque-Bera (JB):           360257.536\n",
      "Skew:                          -1.019   Prob(JB):                         0.00\n",
      "Kurtosis:                      16.061   Cond. No.                         2.66\n",
      "==============================================================================\n",
      "\n",
      "Notes:\n",
      "[1] Standard Errors assume that the covariance matrix of the errors is correctly specified.\n",
      "SSR is: 17882.080177176773\n"
     ]
    }
   ],
   "source": [
    "#Regress residules on residules\n",
    "OLS_model4 = sm.OLS(res_2, sm.add_constant(res_3))\n",
    "OLS_4 = OLS_model4.fit()\n",
    "print(OLS_4.summary())\n",
    "print(\"SSR is:\",OLS_4.ssr)"
   ]
  },
  {
   "cell_type": "markdown",
   "id": "309a8f3c",
   "metadata": {},
   "source": [
    "<font size=4>From the result, we know that$$the\\,estimated\\,coefficient=0.1244,\\,R^2=0.232,\\,and\\,SSR=17882.08$$</font>\n",
    "<font size=4>Thus, the estimate is the same as [1], the SSR is also the same, and R^2 is less than [1]</font>"
   ]
  },
  {
   "cell_type": "markdown",
   "id": "9978a0ae",
   "metadata": {},
   "source": [
    "[3]  \n",
    "<font size=4>The reason why the estimate in [2] and [1] are the same:   \n",
    "Let set education as matrix $X_1$, [experience,experience2] as matrix $X_2$.   \n",
    "In [1], we regress $Y = X_1\\beta_1+X_2\\beta_2+e$<br>\n",
    "$$\n",
    "(\\hat\\beta_1,\\hat\\beta_2)=\\underset{\\beta_1,\\beta_2}{{\\arg\\min}\\,}SSE(\\beta_1,\\beta_2)\\\\  \n",
    "\\hat\\beta_1=\\underset{\\beta_1}{{\\arg\\min}\\,}(\\underset{\\beta_2}{\\min}\\,SSE(\\beta_1,\\beta_2))\\\\=(X_1'M_2X_1)^{-1}{X_1'M_2Y}\n",
    "$$    \n",
    "In [2], firstly we run a regression $Y=X_2\\theta+u$<br>\n",
    "we can get:\n",
    "$$\n",
    "\\hat\\theta=(X_2'X_2)^{-1}X_2'Y,\\\\\n",
    "\\hat u=Y-X_2(X_2'X_2)^{-1}X_2'Y=M_2Y\n",
    "$$\n",
    "Secondly we run a regression $X_1=X_2\\lambda+\\epsilon$<br>\n",
    "we can get:\n",
    "$$\n",
    "\\hat\\lambda=(X_2'X_2)^{-1}X_2'X_1,\\\\\n",
    "\\hat\\epsilon=Y-X_2(X_2'X_2)^{-1}X_2'X_1=M_2 X_1\n",
    "$$  \n",
    "Lastly we run a regression $\\hat u=\\hat\\epsilon\\alpha+\\omega$<br>\n",
    "Let's calculate the estimate $\\hat\\alpha$\n",
    "$$\n",
    "\\hat\\alpha=(\\hat\\epsilon'\\hat\\epsilon)^{-1}\\hat\\epsilon'\\hat u\\\\=((M_2X_1)'M_2X1)^{-1}{(M_2X_1)'M_2Y}\\\\=(X_1'M_2X_1)^{-1}{X_1'M_2Y}\\\\\n",
    "so\\,we\\,find\\,\\hat\\alpha=\\hat\\beta_1\n",
    "$$   \n",
    "</font>"
   ]
  },
  {
   "cell_type": "code",
   "execution_count": 15,
   "id": "1faa74c3",
   "metadata": {},
   "outputs": [],
   "source": [
    "#Exercise 3.25\n",
    "#Let's do it in matrix form\n",
    "Y = dataset['lwage']\n",
    "X1 = dataset['education']\n",
    "dataset['education2'] = np.square(dataset.experience)/100\n",
    "X12 = dataset['education2']\n",
    "X2 = dataset['experience']\n",
    "X22 = dataset['experience2']\n",
    "X = np.column_stack((np.ones(Y.shape[0]), X1, X2,X22))"
   ]
  },
  {
   "cell_type": "code",
   "execution_count": 16,
   "id": "41e6cf9f",
   "metadata": {},
   "outputs": [
    {
     "name": "stdout",
     "output_type": "stream",
     "text": [
      "[ 8.41775154  0.12436935  0.04487859 -0.077773  ]\n"
     ]
    }
   ],
   "source": [
    "#Now, we can caculate beta using formula (X'X)^(-1)X'Y\n",
    "beta = np.linalg.inv(X.T @ X) @ X.T @ Y\n",
    "print(beta)"
   ]
  },
  {
   "cell_type": "code",
   "execution_count": 17,
   "id": "3103ec8f",
   "metadata": {},
   "outputs": [],
   "source": [
    "#Set Y_hat\n",
    "Y_hat = X @ beta"
   ]
  },
  {
   "cell_type": "code",
   "execution_count": 18,
   "id": "3c20bd68",
   "metadata": {},
   "outputs": [],
   "source": [
    "#Set Residule_hat\n",
    "e_hat = Y - Y_hat"
   ]
  },
  {
   "cell_type": "code",
   "execution_count": 19,
   "id": "52cc6224",
   "metadata": {},
   "outputs": [
    {
     "name": "stdout",
     "output_type": "stream",
     "text": [
      "Answer of [a] is: 2.589040093425865e-11\n",
      "Answer of [b] is: 7.3687260737642646e-09\n",
      "Answer of [c] is: 3.4415279515087605e-09\n",
      "Answer of [d] is: -4.774847184307873e-10\n",
      "Answer of [e] is: -4.774847184307873e-10\n",
      "Answer of [f] is: 1.3278622645884752e-09\n",
      "Answer of [g] is: 17882.080177176773\n"
     ]
    }
   ],
   "source": [
    "#Now we have every matrix we need, we can calculate the questions [a]-[g]:\n",
    "q_a = np.sum(e_hat)\n",
    "q_b = X1.T @ e_hat\n",
    "q_c = X2.T @ e_hat\n",
    "q_d = X12.T @ e_hat\n",
    "q_e = X22.T @ e_hat\n",
    "q_f = Y_hat.T @ e_hat\n",
    "q_g = e_hat.T @ e_hat\n",
    "print(\"Answer of [a] is:\",q_a)\n",
    "print(\"Answer of [b] is:\",q_b)\n",
    "print(\"Answer of [c] is:\",q_c)\n",
    "print(\"Answer of [d] is:\",q_d)\n",
    "print(\"Answer of [e] is:\",q_e)\n",
    "print(\"Answer of [f] is:\",q_f)\n",
    "print(\"Answer of [g] is:\",q_g)"
   ]
  },
  {
   "cell_type": "markdown",
   "id": "fcac4c0a",
   "metadata": {},
   "source": [
    "<font size=4>\n",
    "The results are consistent with the theoretical properties of OLS,\n",
    "$$\n",
    "X'\\hat e=0, \\\\\n",
    "\\hat Y'\\hat e=(X\\hat\\beta)'\\hat e=\\hat\\beta' X'\\hat e=0\n",
    "$$\n",
    "So we can see answers for [a] - [f] are very close to 0,<br>\n",
    "[g] is SSR, which is the same as Exercise 3.24"
   ]
  },
  {
   "cell_type": "code",
   "execution_count": 20,
   "id": "975d5f4e",
   "metadata": {},
   "outputs": [],
   "source": [
    "#Exerceise 3.26\n",
    "#[a]. restrict the data only for white male Hispanics, and create dummy variables\n",
    "dataset = dataset.loc[(dataset['female'] == 0) & (dataset['race'] == 1) & (dataset['hisp'] == 1)]\n",
    "region_dummies = pd.get_dummies(dataset['region'], prefix='region')\n",
    "marital_dummies = pd.get_dummies(dataset['marital'], prefix='marital')\n",
    "dataset = pd.concat([dataset, region_dummies, marital_dummies], axis=1)"
   ]
  },
  {
   "cell_type": "code",
   "execution_count": 21,
   "id": "05eed12c",
   "metadata": {},
   "outputs": [
    {
     "data": {
      "text/html": [
       "<div>\n",
       "<style scoped>\n",
       "    .dataframe tbody tr th:only-of-type {\n",
       "        vertical-align: middle;\n",
       "    }\n",
       "\n",
       "    .dataframe tbody tr th {\n",
       "        vertical-align: top;\n",
       "    }\n",
       "\n",
       "    .dataframe thead th {\n",
       "        text-align: right;\n",
       "    }\n",
       "</style>\n",
       "<table border=\"1\" class=\"dataframe\">\n",
       "  <thead>\n",
       "    <tr style=\"text-align: right;\">\n",
       "      <th></th>\n",
       "      <th>age</th>\n",
       "      <th>female</th>\n",
       "      <th>hisp</th>\n",
       "      <th>education</th>\n",
       "      <th>earnings</th>\n",
       "      <th>hours</th>\n",
       "      <th>week</th>\n",
       "      <th>union</th>\n",
       "      <th>uncov</th>\n",
       "      <th>region</th>\n",
       "      <th>...</th>\n",
       "      <th>region_2</th>\n",
       "      <th>region_3</th>\n",
       "      <th>region_4</th>\n",
       "      <th>marital_1</th>\n",
       "      <th>marital_2</th>\n",
       "      <th>marital_3</th>\n",
       "      <th>marital_4</th>\n",
       "      <th>marital_5</th>\n",
       "      <th>marital_6</th>\n",
       "      <th>marital_7</th>\n",
       "    </tr>\n",
       "  </thead>\n",
       "  <tbody>\n",
       "    <tr>\n",
       "      <th>112</th>\n",
       "      <td>53</td>\n",
       "      <td>0</td>\n",
       "      <td>1</td>\n",
       "      <td>9</td>\n",
       "      <td>50000</td>\n",
       "      <td>70</td>\n",
       "      <td>52</td>\n",
       "      <td>0</td>\n",
       "      <td>0</td>\n",
       "      <td>1</td>\n",
       "      <td>...</td>\n",
       "      <td>0</td>\n",
       "      <td>0</td>\n",
       "      <td>0</td>\n",
       "      <td>1</td>\n",
       "      <td>0</td>\n",
       "      <td>0</td>\n",
       "      <td>0</td>\n",
       "      <td>0</td>\n",
       "      <td>0</td>\n",
       "      <td>0</td>\n",
       "    </tr>\n",
       "    <tr>\n",
       "      <th>267</th>\n",
       "      <td>21</td>\n",
       "      <td>0</td>\n",
       "      <td>1</td>\n",
       "      <td>13</td>\n",
       "      <td>30000</td>\n",
       "      <td>40</td>\n",
       "      <td>52</td>\n",
       "      <td>0</td>\n",
       "      <td>0</td>\n",
       "      <td>1</td>\n",
       "      <td>...</td>\n",
       "      <td>0</td>\n",
       "      <td>0</td>\n",
       "      <td>0</td>\n",
       "      <td>0</td>\n",
       "      <td>0</td>\n",
       "      <td>0</td>\n",
       "      <td>0</td>\n",
       "      <td>0</td>\n",
       "      <td>0</td>\n",
       "      <td>1</td>\n",
       "    </tr>\n",
       "    <tr>\n",
       "      <th>271</th>\n",
       "      <td>40</td>\n",
       "      <td>0</td>\n",
       "      <td>1</td>\n",
       "      <td>20</td>\n",
       "      <td>75000</td>\n",
       "      <td>40</td>\n",
       "      <td>52</td>\n",
       "      <td>0</td>\n",
       "      <td>0</td>\n",
       "      <td>1</td>\n",
       "      <td>...</td>\n",
       "      <td>0</td>\n",
       "      <td>0</td>\n",
       "      <td>0</td>\n",
       "      <td>1</td>\n",
       "      <td>0</td>\n",
       "      <td>0</td>\n",
       "      <td>0</td>\n",
       "      <td>0</td>\n",
       "      <td>0</td>\n",
       "      <td>0</td>\n",
       "    </tr>\n",
       "    <tr>\n",
       "      <th>460</th>\n",
       "      <td>27</td>\n",
       "      <td>0</td>\n",
       "      <td>1</td>\n",
       "      <td>12</td>\n",
       "      <td>18500</td>\n",
       "      <td>40</td>\n",
       "      <td>52</td>\n",
       "      <td>0</td>\n",
       "      <td>0</td>\n",
       "      <td>1</td>\n",
       "      <td>...</td>\n",
       "      <td>0</td>\n",
       "      <td>0</td>\n",
       "      <td>0</td>\n",
       "      <td>0</td>\n",
       "      <td>0</td>\n",
       "      <td>0</td>\n",
       "      <td>0</td>\n",
       "      <td>0</td>\n",
       "      <td>0</td>\n",
       "      <td>1</td>\n",
       "    </tr>\n",
       "    <tr>\n",
       "      <th>461</th>\n",
       "      <td>55</td>\n",
       "      <td>0</td>\n",
       "      <td>1</td>\n",
       "      <td>12</td>\n",
       "      <td>22000</td>\n",
       "      <td>40</td>\n",
       "      <td>49</td>\n",
       "      <td>0</td>\n",
       "      <td>0</td>\n",
       "      <td>1</td>\n",
       "      <td>...</td>\n",
       "      <td>0</td>\n",
       "      <td>0</td>\n",
       "      <td>0</td>\n",
       "      <td>1</td>\n",
       "      <td>0</td>\n",
       "      <td>0</td>\n",
       "      <td>0</td>\n",
       "      <td>0</td>\n",
       "      <td>0</td>\n",
       "      <td>0</td>\n",
       "    </tr>\n",
       "  </tbody>\n",
       "</table>\n",
       "<p>5 rows × 27 columns</p>\n",
       "</div>"
      ],
      "text/plain": [
       "     age  female  hisp  education  earnings  hours  week  union  uncov  \\\n",
       "112   53       0     1          9     50000     70    52      0      0   \n",
       "267   21       0     1         13     30000     40    52      0      0   \n",
       "271   40       0     1         20     75000     40    52      0      0   \n",
       "460   27       0     1         12     18500     40    52      0      0   \n",
       "461   55       0     1         12     22000     40    49      0      0   \n",
       "\n",
       "     region  ...  region_2  region_3  region_4  marital_1  marital_2  \\\n",
       "112       1  ...         0         0         0          1          0   \n",
       "267       1  ...         0         0         0          0          0   \n",
       "271       1  ...         0         0         0          1          0   \n",
       "460       1  ...         0         0         0          0          0   \n",
       "461       1  ...         0         0         0          1          0   \n",
       "\n",
       "     marital_3  marital_4  marital_5  marital_6  marital_7  \n",
       "112          0          0          0          0          0  \n",
       "267          0          0          0          0          1  \n",
       "271          0          0          0          0          0  \n",
       "460          0          0          0          0          1  \n",
       "461          0          0          0          0          0  \n",
       "\n",
       "[5 rows x 27 columns]"
      ]
     },
     "execution_count": 21,
     "metadata": {},
     "output_type": "execute_result"
    }
   ],
   "source": [
    "dataset.head()"
   ]
  },
  {
   "cell_type": "code",
   "execution_count": 22,
   "id": "9059fcb7",
   "metadata": {},
   "outputs": [
    {
     "name": "stdout",
     "output_type": "stream",
     "text": [
      "                            OLS Regression Results                            \n",
      "==============================================================================\n",
      "Dep. Variable:                  lwage   R-squared:                       0.271\n",
      "Model:                            OLS   Adj. R-squared:                  0.269\n",
      "Method:                 Least Squares   F-statistic:                     125.7\n",
      "Date:                Sun, 08 Oct 2023   Prob (F-statistic):          1.33e-267\n",
      "Time:                        18:48:52   Log-Likelihood:                -3545.1\n",
      "No. Observations:                4065   AIC:                             7116.\n",
      "Df Residuals:                    4052   BIC:                             7198.\n",
      "Df Model:                          12                                         \n",
      "Covariance Type:            nonrobust                                         \n",
      "===============================================================================\n",
      "                  coef    std err          t      P>|t|      [0.025      0.975]\n",
      "-------------------------------------------------------------------------------\n",
      "const           8.7284      0.056    157.003      0.000       8.619       8.837\n",
      "region_1        0.0836      0.040      2.108      0.035       0.006       0.161\n",
      "region_3       -0.0361      0.032     -1.118      0.264      -0.099       0.027\n",
      "region_4        0.0251      0.032      0.789      0.430      -0.037       0.087\n",
      "marital_1       0.1984      0.025      8.066      0.000       0.150       0.247\n",
      "marital_2      -0.0724      0.580     -0.125      0.901      -1.210       1.065\n",
      "marital_3      -0.0247      0.060     -0.413      0.680      -0.142       0.093\n",
      "marital_4       0.0857      0.195      0.439      0.661      -0.297       0.468\n",
      "marital_5       0.0609      0.045      1.360      0.174      -0.027       0.149\n",
      "marital_6      -0.0217      0.062     -0.350      0.726      -0.143       0.100\n",
      "education       0.0963      0.003     32.961      0.000       0.091       0.102\n",
      "experience      0.0344      0.003      9.905      0.000       0.028       0.041\n",
      "experience2    -0.0519      0.008     -6.829      0.000      -0.067      -0.037\n",
      "==============================================================================\n",
      "Omnibus:                     1240.630   Durbin-Watson:                   1.759\n",
      "Prob(Omnibus):                  0.000   Jarque-Bera (JB):            22598.332\n",
      "Skew:                          -0.982   Prob(JB):                         0.00\n",
      "Kurtosis:                      14.383   Cond. No.                     1.65e+03\n",
      "==============================================================================\n",
      "\n",
      "Notes:\n",
      "[1] Standard Errors assume that the covariance matrix of the errors is correctly specified.\n",
      "[2] The condition number is large, 1.65e+03. This might indicate that there are\n",
      "strong multicollinearity or other numerical problems.\n"
     ]
    }
   ],
   "source": [
    "X = dataset[['region_1','region_3','region_4','marital_1','marital_2','marital_3','marital_4','marital_5','marital_6','education','experience', 'experience2']]\n",
    "X = sm.add_constant(X)\n",
    "Y = dataset[['lwage']]\n",
    "OLS_model5 = sm.OLS(Y, X)\n",
    "OLS_5 = OLS_model5.fit()\n",
    "print(OLS_5.summary())"
   ]
  },
  {
   "cell_type": "markdown",
   "id": "ce56b535",
   "metadata": {},
   "source": [
    "<font size=4>\n",
    "    In Exercise 3.26 [b], I tried STATA, and got the same result. Please check the do-file.\n",
    "</font>"
   ]
  },
  {
   "cell_type": "code",
   "execution_count": null,
   "id": "81155157",
   "metadata": {},
   "outputs": [],
   "source": []
  }
 ],
 "metadata": {
  "kernelspec": {
   "display_name": "Python 3 (ipykernel)",
   "language": "python",
   "name": "python3"
  },
  "language_info": {
   "codemirror_mode": {
    "name": "ipython",
    "version": 3
   },
   "file_extension": ".py",
   "mimetype": "text/x-python",
   "name": "python",
   "nbconvert_exporter": "python",
   "pygments_lexer": "ipython3",
   "version": "3.11.4"
  }
 },
 "nbformat": 4,
 "nbformat_minor": 5
}
